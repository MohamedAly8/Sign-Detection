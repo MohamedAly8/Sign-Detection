{
 "cells": [
  {
   "cell_type": "markdown",
   "id": "2efd9d5d",
   "metadata": {},
   "source": [
    "# 1) Import and Install Dependencies"
   ]
  },
  {
   "cell_type": "markdown",
   "id": "7a0aa89f",
   "metadata": {},
   "source": [
    "# 2) Generating Keypoints using MP Holistic"
   ]
  },
  {
   "cell_type": "markdown",
   "id": "9643b616",
   "metadata": {},
   "source": [
    "# 3) Getting Ketpoint Values"
   ]
  },
  {
   "cell_type": "markdown",
   "id": "beed43a8",
   "metadata": {},
   "source": [
    "# 4) Making Folders for Collection"
   ]
  },
  {
   "cell_type": "markdown",
   "id": "8d882302",
   "metadata": {},
   "source": [
    "# 5) Training and Testing Keypoint Values"
   ]
  },
  {
   "cell_type": "markdown",
   "id": "596993b1",
   "metadata": {},
   "source": [
    "# 1) Import and Install Dependencies"
   ]
  },
  {
   "cell_type": "markdown",
   "id": "2f6bfa4b",
   "metadata": {},
   "source": [
    "# 1) Import and Install Dependencies"
   ]
  },
  {
   "cell_type": "markdown",
   "id": "f8306d57",
   "metadata": {},
   "source": [
    "# 1) Import and Install Dependencies"
   ]
  },
  {
   "cell_type": "markdown",
   "id": "ba5d7d27",
   "metadata": {},
   "source": [
    "# 1) Import and Install Dependencies"
   ]
  },
  {
   "cell_type": "markdown",
   "id": "347925b5",
   "metadata": {},
   "source": [
    "# 1) Import and Install Dependencies"
   ]
  },
  {
   "cell_type": "code",
   "execution_count": null,
   "id": "b494ad17",
   "metadata": {},
   "outputs": [],
   "source": []
  }
 ],
 "metadata": {
  "kernelspec": {
   "display_name": "myvenv",
   "language": "python",
   "name": "myvenv"
  },
  "language_info": {
   "codemirror_mode": {
    "name": "ipython",
    "version": 3
   },
   "file_extension": ".py",
   "mimetype": "text/x-python",
   "name": "python",
   "nbconvert_exporter": "python",
   "pygments_lexer": "ipython3",
   "version": "3.9.6"
  }
 },
 "nbformat": 4,
 "nbformat_minor": 5
}
