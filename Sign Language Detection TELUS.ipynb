{
 "cells": [
  {
   "cell_type": "markdown",
   "id": "55af324e",
   "metadata": {},
   "source": [
    "# 1) Import and Install Dependencies"
   ]
  },
  {
   "cell_type": "code",
   "execution_count": null,
   "id": "e61a3868",
   "metadata": {},
   "outputs": [],
   "source": [
    "!pip install tensorflow tensorflow-gpu "
   ]
  },
  {
   "cell_type": "markdown",
   "id": "811d1d13",
   "metadata": {},
   "source": [
    "# 2) Generating Keypoints using MP Holistic"
   ]
  },
  {
   "cell_type": "markdown",
   "id": "cc03778e",
   "metadata": {},
   "source": [
    "# 3) Getting Ketpoint Values"
   ]
  },
  {
   "cell_type": "markdown",
   "id": "4d1eb9d8",
   "metadata": {},
   "source": [
    "# 4) Making Folders for Collection"
   ]
  },
  {
   "cell_type": "markdown",
   "id": "081dfbff",
   "metadata": {},
   "source": [
    "# 5) Training and Testing Keypoint Values"
   ]
  },
  {
   "cell_type": "markdown",
   "id": "f48c71ea",
   "metadata": {},
   "source": [
    "# 6) Setup Data nad Create Labels and Features"
   ]
  },
  {
   "cell_type": "markdown",
   "id": "e25af9f5",
   "metadata": {},
   "source": [
    "# 1) Import and Install Dependencies"
   ]
  },
  {
   "cell_type": "markdown",
   "id": "15a712c8",
   "metadata": {},
   "source": [
    "# 1) Import and Install Dependencies"
   ]
  },
  {
   "cell_type": "markdown",
   "id": "8d52cb43",
   "metadata": {},
   "source": [
    "# 1) Import and Install Dependencies"
   ]
  },
  {
   "cell_type": "markdown",
   "id": "f8bf7fb0",
   "metadata": {},
   "source": [
    "# 1) Import and Install Dependencies"
   ]
  },
  {
   "cell_type": "code",
   "execution_count": null,
   "id": "2890e048",
   "metadata": {},
   "outputs": [],
   "source": []
  }
 ],
 "metadata": {
  "kernelspec": {
   "display_name": "myvenv",
   "language": "python",
   "name": "myvenv"
  },
  "language_info": {
   "codemirror_mode": {
    "name": "ipython",
    "version": 3
   },
   "file_extension": ".py",
   "mimetype": "text/x-python",
   "name": "python",
   "nbconvert_exporter": "python",
   "pygments_lexer": "ipython3",
   "version": "3.9.6"
  }
 },
 "nbformat": 4,
 "nbformat_minor": 5
}
